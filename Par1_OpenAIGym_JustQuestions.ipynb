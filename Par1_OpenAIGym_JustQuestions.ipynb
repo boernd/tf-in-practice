{
  "nbformat": 4,
  "nbformat_minor": 0,
  "metadata": {
    "colab": {
      "name": "Par1_OpenAIGym_JustQuestions",
      "provenance": [],
      "collapsed_sections": [],
      "toc_visible": true,
      "include_colab_link": true
    },
    "kernelspec": {
      "name": "python3",
      "display_name": "Python 3"
    }
  },
  "cells": [
    {
      "cell_type": "markdown",
      "metadata": {
        "id": "view-in-github",
        "colab_type": "text"
      },
      "source": [
        "<a href=\"https://colab.research.google.com/github/boernd/tf-in-practice/blob/master/Par1_OpenAIGym_JustQuestions.ipynb\" target=\"_parent\"><img src=\"https://colab.research.google.com/assets/colab-badge.svg\" alt=\"Open In Colab\"/></a>"
      ]
    },
    {
      "cell_type": "markdown",
      "metadata": {
        "id": "IOXBxy5LCeNe"
      },
      "source": [
        "# Requirements"
      ]
    },
    {
      "cell_type": "code",
      "metadata": {
        "id": "IKjk5BPTBwh9"
      },
      "source": [
        "#%pip install numpy==1.14.2 atari-py==0.1.1 gym==0.10.4 ptan==0.3 opencv-python==3.4.0.12 scipy==1.0.1 torch==0.4.0 torchvision==0.2.1 tensorboard-pytorch==0.7.1 tensorflow==1.7.0 tensorboard==1.7.0"
      ],
      "execution_count": null,
      "outputs": []
    },
    {
      "cell_type": "code",
      "metadata": {
        "id": "ZiwIOqhSOznv"
      },
      "source": [
        ""
      ],
      "execution_count": null,
      "outputs": []
    },
    {
      "cell_type": "markdown",
      "metadata": {
        "id": "zkVtfXSV-5aT"
      },
      "source": [
        "# Practice 1: Agent anatomy\n",
        "There are several entities in RL's view of the world:\n",
        "\n",
        "\n",
        "*   **Agent:** A person or a thing that takes an active role. In practice, it's some piece of code, which implements some policy. Basically, this policy must decide what action is needed at every time step, given our\n",
        "observations.\n",
        "*   **Environment:** Some model of the world, which is external to the agent and has the responsibility of providing us with observations and giving us rewards. It changes its state based on our actions.\n",
        "\n",
        "Let's show how both of them can be implemented in Python for a simplistic\n",
        "situation. Please define an environment that gives the agent random rewards\n",
        "for a limited number of steps, regardless of the agent's actions. "
      ]
    },
    {
      "cell_type": "code",
      "metadata": {
        "id": "c_TlREtS-uAY"
      },
      "source": [
        "import random\n",
        "\n",
        "\n",
        "class Environment:\n",
        "    def __init__(self):\n",
        "\n",
        "\n",
        "    def get_observation(self):\n",
        "\n",
        "\n",
        "\n",
        "    def get_actions(self):\n",
        "\n",
        "\n",
        "\n",
        "    def is_done(self):\n",
        "\n",
        "\n",
        "\n",
        "    def action(self, action):\n",
        "\n",
        "\n",
        "\n",
        "class Agent:\n",
        "    def __init__(self):\n",
        "\n",
        "    def step(self, env):\n",
        "\n",
        "\n",
        "if __name__ == \"__main__\":\n",
        "    env = Environment()\n",
        "    agent = Agent()\n",
        "\n",
        "    while not env.is_done():\n",
        "        agent.step(env)\n",
        "\n",
        "    print(\"Total reward got: %.4f\" % agent.total_reward)"
      ],
      "execution_count": null,
      "outputs": []
    },
    {
      "cell_type": "markdown",
      "metadata": {
        "id": "zcgp9BE7_K-j"
      },
      "source": [
        "# Practice 2: Random Cartpole\n",
        "Although the environment is much more complex than our first example\n",
        "in The anatomy of the agentsection, the code of the agent is much shorter. This is the power of reusability, abstractions, and third-party libraries!"
      ]
    },
    {
      "cell_type": "code",
      "metadata": {
        "id": "FJFarcgNMSTC"
      },
      "source": [
        "#Answer!"
      ],
      "execution_count": null,
      "outputs": []
    }
  ]
}