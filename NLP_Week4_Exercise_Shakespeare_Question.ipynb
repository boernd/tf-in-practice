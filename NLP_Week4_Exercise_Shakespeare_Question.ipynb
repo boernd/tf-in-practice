{
  "nbformat": 4,
  "nbformat_minor": 0,
  "metadata": {
    "accelerator": "GPU",
    "colab": {
      "name": "NLP_Week4_Exercise_Shakespeare_Question.ipynb",
      "provenance": [],
      "toc_visible": true,
      "include_colab_link": true
    },
    "kernelspec": {
      "display_name": "Python 3",
      "name": "python3"
    }
  },
  "cells": [
    {
      "cell_type": "markdown",
      "metadata": {
        "id": "view-in-github",
        "colab_type": "text"
      },
      "source": [
        "<a href=\"https://colab.research.google.com/github/boernd/tf-in-practice/blob/master/NLP_Week4_Exercise_Shakespeare_Question.ipynb\" target=\"_parent\"><img src=\"https://colab.research.google.com/assets/colab-badge.svg\" alt=\"Open In Colab\"/></a>"
      ]
    },
    {
      "cell_type": "code",
      "metadata": {
        "id": "zX4Kg8DUTKWO",
        "colab_type": "code",
        "colab": {}
      },
      "source": [
        "#@title Licensed under the Apache License, Version 2.0 (the \"License\");\n",
        "# you may not use this file except in compliance with the License.\n",
        "# You may obtain a copy of the License at\n",
        "#\n",
        "# https://www.apache.org/licenses/LICENSE-2.0\n",
        "#\n",
        "# Unless required by applicable law or agreed to in writing, software\n",
        "# distributed under the License is distributed on an \"AS IS\" BASIS,\n",
        "# WITHOUT WARRANTIES OR CONDITIONS OF ANY KIND, either express or implied.\n",
        "# See the License for the specific language governing permissions and\n",
        "# limitations under the License."
      ],
      "execution_count": 0,
      "outputs": []
    },
    {
      "cell_type": "code",
      "metadata": {
        "colab_type": "code",
        "id": "BOwsuGQQY9OL",
        "colab": {}
      },
      "source": [
        "from tensorflow.keras.preprocessing.sequence import pad_sequences\n",
        "from tensorflow.keras.layers import Embedding, LSTM, Dense, Dropout, Bidirectional\n",
        "from tensorflow.keras.preprocessing.text import Tokenizer\n",
        "from tensorflow.keras.models import Sequential\n",
        "from tensorflow.keras.optimizers import Adam\n",
        "### YOUR CODE HERE\n",
        "# Figure out how to import regularizers\n",
        "import tensorflow.keras.regularizers as kr\n",
        "###\n",
        "import tensorflow.keras.utils as ku \n",
        "import numpy as np "
      ],
      "execution_count": 0,
      "outputs": []
    },
    {
      "cell_type": "code",
      "metadata": {
        "colab_type": "code",
        "id": "PRnDnCW-Z7qv",
        "colab": {
          "base_uri": "https://localhost:8080/",
          "height": 223
        },
        "outputId": "fad9942a-1dba-49ba-f90d-36f416577a6f"
      },
      "source": [
        "tokenizer = Tokenizer()\n",
        "!wget --no-check-certificate \\\n",
        "    https://storage.googleapis.com/laurencemoroney-blog.appspot.com/sonnets.txt \\\n",
        "    -O /tmp/sonnets.txt\n",
        "data = open('/tmp/sonnets.txt').read()\n",
        "\n",
        "corpus = data.lower().split(\"\\n\")\n",
        "\n",
        "\n",
        "tokenizer.fit_on_texts(corpus)\n",
        "total_words = len(tokenizer.word_index) + 1\n",
        "\n",
        "# create input sequences using list of tokens\n",
        "input_sequences = []\n",
        "for line in corpus:\n",
        "\ttoken_list = tokenizer.texts_to_sequences([line])[0]\n",
        "\tfor i in range(1, len(token_list)):\n",
        "\t\tn_gram_sequence = token_list[:i+1]\n",
        "\t\tinput_sequences.append(n_gram_sequence)\n",
        "\n",
        "\n",
        "# pad sequences \n",
        "max_sequence_len = max([len(x) for x in input_sequences])\n",
        "input_sequences = np.array(pad_sequences(input_sequences, maxlen=max_sequence_len, padding='pre'))\n",
        "\n",
        "# create predictors and label\n",
        "predictors, label = input_sequences[:,:-1],input_sequences[:,-1]\n",
        "\n",
        "label = ku.to_categorical(label, num_classes=total_words)"
      ],
      "execution_count": 2,
      "outputs": [
        {
          "output_type": "stream",
          "text": [
            "--2020-04-24 18:45:43--  https://storage.googleapis.com/laurencemoroney-blog.appspot.com/sonnets.txt\n",
            "Resolving storage.googleapis.com (storage.googleapis.com)... 173.194.79.128, 2a00:1450:4013:c08::80\n",
            "Connecting to storage.googleapis.com (storage.googleapis.com)|173.194.79.128|:443... connected.\n",
            "HTTP request sent, awaiting response... 200 OK\n",
            "Length: 93578 (91K) [text/plain]\n",
            "Saving to: ‘/tmp/sonnets.txt’\n",
            "\n",
            "\r/tmp/sonnets.txt      0%[                    ]       0  --.-KB/s               \r/tmp/sonnets.txt    100%[===================>]  91.38K  --.-KB/s    in 0.001s  \n",
            "\n",
            "2020-04-24 18:45:43 (113 MB/s) - ‘/tmp/sonnets.txt’ saved [93578/93578]\n",
            "\n"
          ],
          "name": "stdout"
        }
      ]
    },
    {
      "cell_type": "code",
      "metadata": {
        "colab_type": "code",
        "id": "w9vH8Y59ajYL",
        "colab": {
          "base_uri": "https://localhost:8080/",
          "height": 410
        },
        "outputId": "8901e09f-d211-42e1-b6bf-a796af946cc9"
      },
      "source": [
        "model = Sequential()\n",
        "model.add(Embedding(input_dim=total_words,output_dim=120,input_length=max_sequence_len-1))\n",
        "model.add(Bidirectional(LSTM(units=128, return_sequences=True)))\n",
        "model.add(Dropout(rate=0.2))\n",
        "model.add(LSTM(units=256))\n",
        "model.add(Dense(units=total_words/3, activation='relu', kernel_regularizer=kr.l2(0.01)))\n",
        "model.add(Dense(units=total_words, activation='softmax'))\n",
        "# Pick an optimizer\n",
        "model.compile(loss='categorical_crossentropy', optimizer='adam', metrics=['accuracy'])\n",
        "print(model.summary())\n"
      ],
      "execution_count": 13,
      "outputs": [
        {
          "output_type": "stream",
          "text": [
            "Model: \"sequential_5\"\n",
            "_________________________________________________________________\n",
            "Layer (type)                 Output Shape              Param #   \n",
            "=================================================================\n",
            "embedding_5 (Embedding)      (None, 10, 120)           385320    \n",
            "_________________________________________________________________\n",
            "bidirectional_1 (Bidirection (None, 10, 256)           254976    \n",
            "_________________________________________________________________\n",
            "dropout_5 (Dropout)          (None, 10, 256)           0         \n",
            "_________________________________________________________________\n",
            "lstm_11 (LSTM)               (None, 256)               525312    \n",
            "_________________________________________________________________\n",
            "dense_8 (Dense)              (None, 1070)              274990    \n",
            "_________________________________________________________________\n",
            "dense_9 (Dense)              (None, 3211)              3438981   \n",
            "=================================================================\n",
            "Total params: 4,879,579\n",
            "Trainable params: 4,879,579\n",
            "Non-trainable params: 0\n",
            "_________________________________________________________________\n",
            "None\n"
          ],
          "name": "stdout"
        }
      ]
    },
    {
      "cell_type": "code",
      "metadata": {
        "colab_type": "code",
        "id": "AIg2f1HBxqof",
        "colab": {
          "base_uri": "https://localhost:8080/",
          "height": 1000
        },
        "outputId": "8cc1b6fc-0653-4b0e-e2a4-3773a9fbf0df"
      },
      "source": [
        " history = model.fit(predictors, label, epochs=100, verbose=1)"
      ],
      "execution_count": 14,
      "outputs": [
        {
          "output_type": "stream",
          "text": [
            "Epoch 1/100\n",
            "484/484 [==============================] - 6s 11ms/step - loss: 7.0478 - accuracy: 0.0228\n",
            "Epoch 2/100\n",
            "484/484 [==============================] - 6s 11ms/step - loss: 6.4992 - accuracy: 0.0224\n",
            "Epoch 3/100\n",
            "484/484 [==============================] - 6s 11ms/step - loss: 6.4094 - accuracy: 0.0243\n",
            "Epoch 4/100\n",
            "484/484 [==============================] - 5s 11ms/step - loss: 6.3012 - accuracy: 0.0285\n",
            "Epoch 5/100\n",
            "484/484 [==============================] - 5s 11ms/step - loss: 6.1863 - accuracy: 0.0296\n",
            "Epoch 6/100\n",
            "484/484 [==============================] - 5s 11ms/step - loss: 6.0937 - accuracy: 0.0389\n",
            "Epoch 7/100\n",
            "484/484 [==============================] - 5s 11ms/step - loss: 6.0060 - accuracy: 0.0404\n",
            "Epoch 8/100\n",
            "484/484 [==============================] - 5s 11ms/step - loss: 5.9256 - accuracy: 0.0433\n",
            "Epoch 9/100\n",
            "484/484 [==============================] - 5s 11ms/step - loss: 5.8337 - accuracy: 0.0509\n",
            "Epoch 10/100\n",
            "484/484 [==============================] - 5s 11ms/step - loss: 5.7272 - accuracy: 0.0590\n",
            "Epoch 11/100\n",
            "484/484 [==============================] - 5s 11ms/step - loss: 5.6243 - accuracy: 0.0627\n",
            "Epoch 12/100\n",
            "484/484 [==============================] - 5s 11ms/step - loss: 5.5124 - accuracy: 0.0712\n",
            "Epoch 13/100\n",
            "484/484 [==============================] - 5s 11ms/step - loss: 5.4073 - accuracy: 0.0763\n",
            "Epoch 14/100\n",
            "484/484 [==============================] - 6s 12ms/step - loss: 5.3006 - accuracy: 0.0867\n",
            "Epoch 15/100\n",
            "484/484 [==============================] - 5s 11ms/step - loss: 5.2042 - accuracy: 0.0934\n",
            "Epoch 16/100\n",
            "484/484 [==============================] - 5s 11ms/step - loss: 5.0985 - accuracy: 0.1022\n",
            "Epoch 17/100\n",
            "484/484 [==============================] - 6s 11ms/step - loss: 4.9950 - accuracy: 0.1094\n",
            "Epoch 18/100\n",
            "484/484 [==============================] - 6s 12ms/step - loss: 4.8950 - accuracy: 0.1177\n",
            "Epoch 19/100\n",
            "484/484 [==============================] - 6s 12ms/step - loss: 4.7957 - accuracy: 0.1234\n",
            "Epoch 20/100\n",
            "484/484 [==============================] - 5s 11ms/step - loss: 4.6913 - accuracy: 0.1374\n",
            "Epoch 21/100\n",
            "484/484 [==============================] - 5s 11ms/step - loss: 4.5883 - accuracy: 0.1482\n",
            "Epoch 22/100\n",
            "484/484 [==============================] - 5s 11ms/step - loss: 4.4820 - accuracy: 0.1612\n",
            "Epoch 23/100\n",
            "484/484 [==============================] - 5s 11ms/step - loss: 4.3765 - accuracy: 0.1716\n",
            "Epoch 24/100\n",
            "484/484 [==============================] - 5s 11ms/step - loss: 4.2646 - accuracy: 0.1848\n",
            "Epoch 25/100\n",
            "484/484 [==============================] - 5s 11ms/step - loss: 4.1737 - accuracy: 0.1953\n",
            "Epoch 26/100\n",
            "484/484 [==============================] - 5s 11ms/step - loss: 4.0659 - accuracy: 0.2143\n",
            "Epoch 27/100\n",
            "484/484 [==============================] - 5s 11ms/step - loss: 3.9526 - accuracy: 0.2289\n",
            "Epoch 28/100\n",
            "484/484 [==============================] - 5s 11ms/step - loss: 3.8539 - accuracy: 0.2455\n",
            "Epoch 29/100\n",
            "484/484 [==============================] - 5s 11ms/step - loss: 3.7513 - accuracy: 0.2595\n",
            "Epoch 30/100\n",
            "484/484 [==============================] - 5s 11ms/step - loss: 3.6442 - accuracy: 0.2747\n",
            "Epoch 31/100\n",
            "484/484 [==============================] - 6s 11ms/step - loss: 3.5525 - accuracy: 0.2982\n",
            "Epoch 32/100\n",
            "484/484 [==============================] - 5s 11ms/step - loss: 3.4602 - accuracy: 0.3181\n",
            "Epoch 33/100\n",
            "484/484 [==============================] - 5s 11ms/step - loss: 3.3663 - accuracy: 0.3309\n",
            "Epoch 34/100\n",
            "484/484 [==============================] - 5s 11ms/step - loss: 3.2734 - accuracy: 0.3553\n",
            "Epoch 35/100\n",
            "484/484 [==============================] - 5s 11ms/step - loss: 3.1742 - accuracy: 0.3778\n",
            "Epoch 36/100\n",
            "484/484 [==============================] - 5s 11ms/step - loss: 3.0939 - accuracy: 0.3937\n",
            "Epoch 37/100\n",
            "484/484 [==============================] - 5s 11ms/step - loss: 3.0130 - accuracy: 0.4091\n",
            "Epoch 38/100\n",
            "484/484 [==============================] - 5s 11ms/step - loss: 2.9296 - accuracy: 0.4277\n",
            "Epoch 39/100\n",
            "484/484 [==============================] - 5s 11ms/step - loss: 2.8600 - accuracy: 0.4498\n",
            "Epoch 40/100\n",
            "484/484 [==============================] - 5s 11ms/step - loss: 2.7810 - accuracy: 0.4649\n",
            "Epoch 41/100\n",
            "484/484 [==============================] - 5s 11ms/step - loss: 2.7046 - accuracy: 0.4829\n",
            "Epoch 42/100\n",
            "484/484 [==============================] - 5s 11ms/step - loss: 2.6335 - accuracy: 0.4993\n",
            "Epoch 43/100\n",
            "484/484 [==============================] - 5s 11ms/step - loss: 2.5640 - accuracy: 0.5149\n",
            "Epoch 44/100\n",
            "484/484 [==============================] - 5s 11ms/step - loss: 2.4991 - accuracy: 0.5334\n",
            "Epoch 45/100\n",
            "484/484 [==============================] - 5s 11ms/step - loss: 2.4294 - accuracy: 0.5486\n",
            "Epoch 46/100\n",
            "484/484 [==============================] - 5s 11ms/step - loss: 2.3708 - accuracy: 0.5624\n",
            "Epoch 47/100\n",
            "484/484 [==============================] - 6s 11ms/step - loss: 2.3126 - accuracy: 0.5759\n",
            "Epoch 48/100\n",
            "484/484 [==============================] - 5s 11ms/step - loss: 2.2698 - accuracy: 0.5843\n",
            "Epoch 49/100\n",
            "484/484 [==============================] - 5s 11ms/step - loss: 2.2096 - accuracy: 0.6007\n",
            "Epoch 50/100\n",
            "484/484 [==============================] - 5s 11ms/step - loss: 2.1569 - accuracy: 0.6124\n",
            "Epoch 51/100\n",
            "484/484 [==============================] - 5s 11ms/step - loss: 2.1108 - accuracy: 0.6219\n",
            "Epoch 52/100\n",
            "484/484 [==============================] - 5s 11ms/step - loss: 2.0654 - accuracy: 0.6306\n",
            "Epoch 53/100\n",
            "484/484 [==============================] - 5s 11ms/step - loss: 2.0143 - accuracy: 0.6430\n",
            "Epoch 54/100\n",
            "484/484 [==============================] - 5s 11ms/step - loss: 1.9791 - accuracy: 0.6510\n",
            "Epoch 55/100\n",
            "484/484 [==============================] - 5s 11ms/step - loss: 1.9364 - accuracy: 0.6614\n",
            "Epoch 56/100\n",
            "484/484 [==============================] - 5s 11ms/step - loss: 1.8900 - accuracy: 0.6688\n",
            "Epoch 57/100\n",
            "484/484 [==============================] - 5s 11ms/step - loss: 1.8506 - accuracy: 0.6827\n",
            "Epoch 58/100\n",
            "484/484 [==============================] - 5s 11ms/step - loss: 1.8251 - accuracy: 0.6830\n",
            "Epoch 59/100\n",
            "484/484 [==============================] - 6s 11ms/step - loss: 1.7856 - accuracy: 0.6909\n",
            "Epoch 60/100\n",
            "484/484 [==============================] - 6s 11ms/step - loss: 1.7520 - accuracy: 0.7010\n",
            "Epoch 61/100\n",
            "484/484 [==============================] - 6s 11ms/step - loss: 1.7156 - accuracy: 0.7090\n",
            "Epoch 62/100\n",
            "484/484 [==============================] - 6s 11ms/step - loss: 1.6815 - accuracy: 0.7154\n",
            "Epoch 63/100\n",
            "484/484 [==============================] - 5s 11ms/step - loss: 1.6489 - accuracy: 0.7205\n",
            "Epoch 64/100\n",
            "484/484 [==============================] - 6s 11ms/step - loss: 1.6309 - accuracy: 0.7278\n",
            "Epoch 65/100\n",
            "484/484 [==============================] - 6s 11ms/step - loss: 1.5949 - accuracy: 0.7352\n",
            "Epoch 66/100\n",
            "484/484 [==============================] - 6s 12ms/step - loss: 1.5791 - accuracy: 0.7330\n",
            "Epoch 67/100\n",
            "484/484 [==============================] - 6s 12ms/step - loss: 1.5662 - accuracy: 0.7376\n",
            "Epoch 68/100\n",
            "484/484 [==============================] - 6s 11ms/step - loss: 1.5371 - accuracy: 0.7412\n",
            "Epoch 69/100\n",
            "484/484 [==============================] - 6s 12ms/step - loss: 1.5067 - accuracy: 0.7504\n",
            "Epoch 70/100\n",
            "484/484 [==============================] - 6s 12ms/step - loss: 1.4721 - accuracy: 0.7538\n",
            "Epoch 71/100\n",
            "484/484 [==============================] - 6s 11ms/step - loss: 1.4428 - accuracy: 0.7608\n",
            "Epoch 72/100\n",
            "484/484 [==============================] - 6s 11ms/step - loss: 1.4324 - accuracy: 0.7590\n",
            "Epoch 73/100\n",
            "484/484 [==============================] - 6s 11ms/step - loss: 1.4288 - accuracy: 0.7627\n",
            "Epoch 74/100\n",
            "484/484 [==============================] - 6s 11ms/step - loss: 1.4116 - accuracy: 0.7657\n",
            "Epoch 75/100\n",
            "484/484 [==============================] - 6s 12ms/step - loss: 1.3994 - accuracy: 0.7663\n",
            "Epoch 76/100\n",
            "484/484 [==============================] - 6s 12ms/step - loss: 1.3655 - accuracy: 0.7747\n",
            "Epoch 77/100\n",
            "484/484 [==============================] - 6s 11ms/step - loss: 1.3402 - accuracy: 0.7784\n",
            "Epoch 78/100\n",
            "484/484 [==============================] - 6s 11ms/step - loss: 1.3305 - accuracy: 0.7774\n",
            "Epoch 79/100\n",
            "484/484 [==============================] - 6s 11ms/step - loss: 1.3098 - accuracy: 0.7813\n",
            "Epoch 80/100\n",
            "484/484 [==============================] - 6s 11ms/step - loss: 1.3011 - accuracy: 0.7826\n",
            "Epoch 81/100\n",
            "484/484 [==============================] - 6s 12ms/step - loss: 1.2971 - accuracy: 0.7847\n",
            "Epoch 82/100\n",
            "484/484 [==============================] - 5s 11ms/step - loss: 1.2931 - accuracy: 0.7855\n",
            "Epoch 83/100\n",
            "484/484 [==============================] - 5s 11ms/step - loss: 1.2521 - accuracy: 0.7918\n",
            "Epoch 84/100\n",
            "484/484 [==============================] - 5s 11ms/step - loss: 1.2602 - accuracy: 0.7864\n",
            "Epoch 85/100\n",
            "484/484 [==============================] - 5s 11ms/step - loss: 1.2340 - accuracy: 0.7934\n",
            "Epoch 86/100\n",
            "484/484 [==============================] - 5s 11ms/step - loss: 1.2309 - accuracy: 0.7914\n",
            "Epoch 87/100\n",
            "484/484 [==============================] - 6s 11ms/step - loss: 1.2108 - accuracy: 0.7972\n",
            "Epoch 88/100\n",
            "484/484 [==============================] - 6s 12ms/step - loss: 1.1971 - accuracy: 0.8016\n",
            "Epoch 89/100\n",
            "484/484 [==============================] - 6s 12ms/step - loss: 1.1859 - accuracy: 0.8026\n",
            "Epoch 90/100\n",
            "484/484 [==============================] - 6s 12ms/step - loss: 1.1773 - accuracy: 0.8037\n",
            "Epoch 91/100\n",
            "484/484 [==============================] - 6s 11ms/step - loss: 1.1693 - accuracy: 0.8005\n",
            "Epoch 92/100\n",
            "484/484 [==============================] - 5s 11ms/step - loss: 1.1527 - accuracy: 0.8055\n",
            "Epoch 93/100\n",
            "484/484 [==============================] - 5s 11ms/step - loss: 1.1476 - accuracy: 0.8049\n",
            "Epoch 94/100\n",
            "484/484 [==============================] - 5s 11ms/step - loss: 1.1436 - accuracy: 0.8073\n",
            "Epoch 95/100\n",
            "484/484 [==============================] - 5s 11ms/step - loss: 1.1322 - accuracy: 0.8057\n",
            "Epoch 96/100\n",
            "484/484 [==============================] - 5s 11ms/step - loss: 1.1219 - accuracy: 0.8086\n",
            "Epoch 97/100\n",
            "484/484 [==============================] - 5s 11ms/step - loss: 1.1168 - accuracy: 0.8089\n",
            "Epoch 98/100\n",
            "484/484 [==============================] - 6s 11ms/step - loss: 1.1070 - accuracy: 0.8117\n",
            "Epoch 99/100\n",
            "484/484 [==============================] - 6s 11ms/step - loss: 1.0992 - accuracy: 0.8149\n",
            "Epoch 100/100\n",
            "484/484 [==============================] - 6s 11ms/step - loss: 1.0941 - accuracy: 0.8137\n"
          ],
          "name": "stdout"
        }
      ]
    },
    {
      "cell_type": "code",
      "metadata": {
        "colab_type": "code",
        "id": "1fXTEO3GJ282",
        "colab": {
          "base_uri": "https://localhost:8080/",
          "height": 545
        },
        "outputId": "4f65ae3d-acec-4b2d-b848-5e62b9b3d661"
      },
      "source": [
        "import matplotlib.pyplot as plt\n",
        "acc = history.history['accuracy']\n",
        "loss = history.history['loss']\n",
        "\n",
        "epochs = range(len(acc))\n",
        "\n",
        "plt.plot(epochs, acc, 'b', label='Training accuracy')\n",
        "plt.title('Training accuracy')\n",
        "\n",
        "plt.figure()\n",
        "\n",
        "plt.plot(epochs, loss, 'b', label='Training Loss')\n",
        "plt.title('Training loss')\n",
        "plt.legend()\n",
        "\n",
        "plt.show()"
      ],
      "execution_count": 15,
      "outputs": [
        {
          "output_type": "display_data",
          "data": {
            "image/png": "[encoded data removed]",
            "text/plain": [
              "<Figure size 432x288 with 1 Axes>"
            ]
          },
          "metadata": {
            "tags": [],
            "needs_background": "light"
          }
        },
        {
          "output_type": "display_data",
          "data": {
            "image/png": "[encoded data removed]",
            "text/plain": [
              "<Figure size 432x288 with 1 Axes>"
            ]
          },
          "metadata": {
            "tags": [],
            "needs_background": "light"
          }
        }
      ]
    },
    {
      "cell_type": "code",
      "metadata": {
        "colab_type": "code",
        "id": "6Vc6PHgxa6Hm",
        "colab": {
          "base_uri": "https://localhost:8080/",
          "height": 56
        },
        "outputId": "8edb5fc2-cc61-4638-9907-e2f6d3157a2e"
      },
      "source": [
        "seed_text = \"Help me Obi Wan Kenobi, you're my only hope\"\n",
        "next_words = 100\n",
        "  \n",
        "for _ in range(next_words):\n",
        "\ttoken_list = tokenizer.texts_to_sequences([seed_text])[0]\n",
        "\ttoken_list = pad_sequences([token_list], maxlen=max_sequence_len-1, padding='pre')\n",
        "\tpredicted = model.predict_classes(token_list, verbose=0)\n",
        "\toutput_word = \"\"\n",
        "\tfor word, index in tokenizer.word_index.items():\n",
        "\t\tif index == predicted:\n",
        "\t\t\toutput_word = word\n",
        "\t\t\tbreak\n",
        "\tseed_text += \" \" + output_word\n",
        "print(seed_text)"
      ],
      "execution_count": 16,
      "outputs": [
        {
          "output_type": "stream",
          "text": [
            "Help me Obi Wan Kenobi, you're my only hope that eyes is worth doth stand still new in it one can thee old free near free near taken show thee young thy rhyme gain by appetite i do dead gone dyed dead part bearing many a worthless fading place ride at base men height forth me by night mad new shade remember'd better pride pluck them back by outworn told a scope and rich prove spent pride new end see lie in a hell of hell his part new cold brought of character or rare rare burn night dyed dyed dyed quite much treason cold end aside taken shine\n"
          ],
          "name": "stdout"
        }
      ]
    }
  ]
}